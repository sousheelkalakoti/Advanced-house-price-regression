{
 "cells": [
  {
   "cell_type": "code",
   "execution_count": 1,
   "id": "7d872481",
   "metadata": {},
   "outputs": [],
   "source": [
    "import pandas as pd\n",
    "import numpy as np\n",
    "import matplotlib.pyplot as plt\n",
    "%matplotlib inline"
   ]
  },
  {
   "cell_type": "code",
   "execution_count": 2,
   "id": "2fff2263",
   "metadata": {},
   "outputs": [
    {
     "ename": "FileNotFoundError",
     "evalue": "[Errno 2] No such file or directory: 'train.csv'",
     "output_type": "error",
     "traceback": [
      "\u001b[1;31m---------------------------------------------------------------------------\u001b[0m",
      "\u001b[1;31mFileNotFoundError\u001b[0m                         Traceback (most recent call last)",
      "\u001b[1;32m<ipython-input-2-b3cf800361fe>\u001b[0m in \u001b[0;36m<module>\u001b[1;34m\u001b[0m\n\u001b[1;32m----> 1\u001b[1;33m \u001b[0mhousetrain\u001b[0m\u001b[1;33m=\u001b[0m\u001b[0mpd\u001b[0m\u001b[1;33m.\u001b[0m\u001b[0mread_csv\u001b[0m\u001b[1;33m(\u001b[0m\u001b[1;34m'train.csv'\u001b[0m\u001b[1;33m)\u001b[0m\u001b[1;33m\u001b[0m\u001b[1;33m\u001b[0m\u001b[0m\n\u001b[0m",
      "\u001b[1;32m~\\anaconda3\\lib\\site-packages\\pandas\\io\\parsers.py\u001b[0m in \u001b[0;36mread_csv\u001b[1;34m(filepath_or_buffer, sep, delimiter, header, names, index_col, usecols, squeeze, prefix, mangle_dupe_cols, dtype, engine, converters, true_values, false_values, skipinitialspace, skiprows, skipfooter, nrows, na_values, keep_default_na, na_filter, verbose, skip_blank_lines, parse_dates, infer_datetime_format, keep_date_col, date_parser, dayfirst, cache_dates, iterator, chunksize, compression, thousands, decimal, lineterminator, quotechar, quoting, doublequote, escapechar, comment, encoding, dialect, error_bad_lines, warn_bad_lines, delim_whitespace, low_memory, memory_map, float_precision, storage_options)\u001b[0m\n\u001b[0;32m    608\u001b[0m     \u001b[0mkwds\u001b[0m\u001b[1;33m.\u001b[0m\u001b[0mupdate\u001b[0m\u001b[1;33m(\u001b[0m\u001b[0mkwds_defaults\u001b[0m\u001b[1;33m)\u001b[0m\u001b[1;33m\u001b[0m\u001b[1;33m\u001b[0m\u001b[0m\n\u001b[0;32m    609\u001b[0m \u001b[1;33m\u001b[0m\u001b[0m\n\u001b[1;32m--> 610\u001b[1;33m     \u001b[1;32mreturn\u001b[0m \u001b[0m_read\u001b[0m\u001b[1;33m(\u001b[0m\u001b[0mfilepath_or_buffer\u001b[0m\u001b[1;33m,\u001b[0m \u001b[0mkwds\u001b[0m\u001b[1;33m)\u001b[0m\u001b[1;33m\u001b[0m\u001b[1;33m\u001b[0m\u001b[0m\n\u001b[0m\u001b[0;32m    611\u001b[0m \u001b[1;33m\u001b[0m\u001b[0m\n\u001b[0;32m    612\u001b[0m \u001b[1;33m\u001b[0m\u001b[0m\n",
      "\u001b[1;32m~\\anaconda3\\lib\\site-packages\\pandas\\io\\parsers.py\u001b[0m in \u001b[0;36m_read\u001b[1;34m(filepath_or_buffer, kwds)\u001b[0m\n\u001b[0;32m    460\u001b[0m \u001b[1;33m\u001b[0m\u001b[0m\n\u001b[0;32m    461\u001b[0m     \u001b[1;31m# Create the parser.\u001b[0m\u001b[1;33m\u001b[0m\u001b[1;33m\u001b[0m\u001b[1;33m\u001b[0m\u001b[0m\n\u001b[1;32m--> 462\u001b[1;33m     \u001b[0mparser\u001b[0m \u001b[1;33m=\u001b[0m \u001b[0mTextFileReader\u001b[0m\u001b[1;33m(\u001b[0m\u001b[0mfilepath_or_buffer\u001b[0m\u001b[1;33m,\u001b[0m \u001b[1;33m**\u001b[0m\u001b[0mkwds\u001b[0m\u001b[1;33m)\u001b[0m\u001b[1;33m\u001b[0m\u001b[1;33m\u001b[0m\u001b[0m\n\u001b[0m\u001b[0;32m    463\u001b[0m \u001b[1;33m\u001b[0m\u001b[0m\n\u001b[0;32m    464\u001b[0m     \u001b[1;32mif\u001b[0m \u001b[0mchunksize\u001b[0m \u001b[1;32mor\u001b[0m \u001b[0miterator\u001b[0m\u001b[1;33m:\u001b[0m\u001b[1;33m\u001b[0m\u001b[1;33m\u001b[0m\u001b[0m\n",
      "\u001b[1;32m~\\anaconda3\\lib\\site-packages\\pandas\\io\\parsers.py\u001b[0m in \u001b[0;36m__init__\u001b[1;34m(self, f, engine, **kwds)\u001b[0m\n\u001b[0;32m    817\u001b[0m             \u001b[0mself\u001b[0m\u001b[1;33m.\u001b[0m\u001b[0moptions\u001b[0m\u001b[1;33m[\u001b[0m\u001b[1;34m\"has_index_names\"\u001b[0m\u001b[1;33m]\u001b[0m \u001b[1;33m=\u001b[0m \u001b[0mkwds\u001b[0m\u001b[1;33m[\u001b[0m\u001b[1;34m\"has_index_names\"\u001b[0m\u001b[1;33m]\u001b[0m\u001b[1;33m\u001b[0m\u001b[1;33m\u001b[0m\u001b[0m\n\u001b[0;32m    818\u001b[0m \u001b[1;33m\u001b[0m\u001b[0m\n\u001b[1;32m--> 819\u001b[1;33m         \u001b[0mself\u001b[0m\u001b[1;33m.\u001b[0m\u001b[0m_engine\u001b[0m \u001b[1;33m=\u001b[0m \u001b[0mself\u001b[0m\u001b[1;33m.\u001b[0m\u001b[0m_make_engine\u001b[0m\u001b[1;33m(\u001b[0m\u001b[0mself\u001b[0m\u001b[1;33m.\u001b[0m\u001b[0mengine\u001b[0m\u001b[1;33m)\u001b[0m\u001b[1;33m\u001b[0m\u001b[1;33m\u001b[0m\u001b[0m\n\u001b[0m\u001b[0;32m    820\u001b[0m \u001b[1;33m\u001b[0m\u001b[0m\n\u001b[0;32m    821\u001b[0m     \u001b[1;32mdef\u001b[0m \u001b[0mclose\u001b[0m\u001b[1;33m(\u001b[0m\u001b[0mself\u001b[0m\u001b[1;33m)\u001b[0m\u001b[1;33m:\u001b[0m\u001b[1;33m\u001b[0m\u001b[1;33m\u001b[0m\u001b[0m\n",
      "\u001b[1;32m~\\anaconda3\\lib\\site-packages\\pandas\\io\\parsers.py\u001b[0m in \u001b[0;36m_make_engine\u001b[1;34m(self, engine)\u001b[0m\n\u001b[0;32m   1048\u001b[0m             )\n\u001b[0;32m   1049\u001b[0m         \u001b[1;31m# error: Too many arguments for \"ParserBase\"\u001b[0m\u001b[1;33m\u001b[0m\u001b[1;33m\u001b[0m\u001b[1;33m\u001b[0m\u001b[0m\n\u001b[1;32m-> 1050\u001b[1;33m         \u001b[1;32mreturn\u001b[0m \u001b[0mmapping\u001b[0m\u001b[1;33m[\u001b[0m\u001b[0mengine\u001b[0m\u001b[1;33m]\u001b[0m\u001b[1;33m(\u001b[0m\u001b[0mself\u001b[0m\u001b[1;33m.\u001b[0m\u001b[0mf\u001b[0m\u001b[1;33m,\u001b[0m \u001b[1;33m**\u001b[0m\u001b[0mself\u001b[0m\u001b[1;33m.\u001b[0m\u001b[0moptions\u001b[0m\u001b[1;33m)\u001b[0m  \u001b[1;31m# type: ignore[call-arg]\u001b[0m\u001b[1;33m\u001b[0m\u001b[1;33m\u001b[0m\u001b[0m\n\u001b[0m\u001b[0;32m   1051\u001b[0m \u001b[1;33m\u001b[0m\u001b[0m\n\u001b[0;32m   1052\u001b[0m     \u001b[1;32mdef\u001b[0m \u001b[0m_failover_to_python\u001b[0m\u001b[1;33m(\u001b[0m\u001b[0mself\u001b[0m\u001b[1;33m)\u001b[0m\u001b[1;33m:\u001b[0m\u001b[1;33m\u001b[0m\u001b[1;33m\u001b[0m\u001b[0m\n",
      "\u001b[1;32m~\\anaconda3\\lib\\site-packages\\pandas\\io\\parsers.py\u001b[0m in \u001b[0;36m__init__\u001b[1;34m(self, src, **kwds)\u001b[0m\n\u001b[0;32m   1865\u001b[0m \u001b[1;33m\u001b[0m\u001b[0m\n\u001b[0;32m   1866\u001b[0m         \u001b[1;31m# open handles\u001b[0m\u001b[1;33m\u001b[0m\u001b[1;33m\u001b[0m\u001b[1;33m\u001b[0m\u001b[0m\n\u001b[1;32m-> 1867\u001b[1;33m         \u001b[0mself\u001b[0m\u001b[1;33m.\u001b[0m\u001b[0m_open_handles\u001b[0m\u001b[1;33m(\u001b[0m\u001b[0msrc\u001b[0m\u001b[1;33m,\u001b[0m \u001b[0mkwds\u001b[0m\u001b[1;33m)\u001b[0m\u001b[1;33m\u001b[0m\u001b[1;33m\u001b[0m\u001b[0m\n\u001b[0m\u001b[0;32m   1868\u001b[0m         \u001b[1;32massert\u001b[0m \u001b[0mself\u001b[0m\u001b[1;33m.\u001b[0m\u001b[0mhandles\u001b[0m \u001b[1;32mis\u001b[0m \u001b[1;32mnot\u001b[0m \u001b[1;32mNone\u001b[0m\u001b[1;33m\u001b[0m\u001b[1;33m\u001b[0m\u001b[0m\n\u001b[0;32m   1869\u001b[0m         \u001b[1;32mfor\u001b[0m \u001b[0mkey\u001b[0m \u001b[1;32min\u001b[0m \u001b[1;33m(\u001b[0m\u001b[1;34m\"storage_options\"\u001b[0m\u001b[1;33m,\u001b[0m \u001b[1;34m\"encoding\"\u001b[0m\u001b[1;33m,\u001b[0m \u001b[1;34m\"memory_map\"\u001b[0m\u001b[1;33m,\u001b[0m \u001b[1;34m\"compression\"\u001b[0m\u001b[1;33m)\u001b[0m\u001b[1;33m:\u001b[0m\u001b[1;33m\u001b[0m\u001b[1;33m\u001b[0m\u001b[0m\n",
      "\u001b[1;32m~\\anaconda3\\lib\\site-packages\\pandas\\io\\parsers.py\u001b[0m in \u001b[0;36m_open_handles\u001b[1;34m(self, src, kwds)\u001b[0m\n\u001b[0;32m   1360\u001b[0m         \u001b[0mLet\u001b[0m \u001b[0mthe\u001b[0m \u001b[0mreaders\u001b[0m \u001b[0mopen\u001b[0m \u001b[0mIOHanldes\u001b[0m \u001b[0mafter\u001b[0m \u001b[0mthey\u001b[0m \u001b[0mare\u001b[0m \u001b[0mdone\u001b[0m \u001b[1;32mwith\u001b[0m \u001b[0mtheir\u001b[0m \u001b[0mpotential\u001b[0m \u001b[0mraises\u001b[0m\u001b[1;33m.\u001b[0m\u001b[1;33m\u001b[0m\u001b[1;33m\u001b[0m\u001b[0m\n\u001b[0;32m   1361\u001b[0m         \"\"\"\n\u001b[1;32m-> 1362\u001b[1;33m         self.handles = get_handle(\n\u001b[0m\u001b[0;32m   1363\u001b[0m             \u001b[0msrc\u001b[0m\u001b[1;33m,\u001b[0m\u001b[1;33m\u001b[0m\u001b[1;33m\u001b[0m\u001b[0m\n\u001b[0;32m   1364\u001b[0m             \u001b[1;34m\"r\"\u001b[0m\u001b[1;33m,\u001b[0m\u001b[1;33m\u001b[0m\u001b[1;33m\u001b[0m\u001b[0m\n",
      "\u001b[1;32m~\\anaconda3\\lib\\site-packages\\pandas\\io\\common.py\u001b[0m in \u001b[0;36mget_handle\u001b[1;34m(path_or_buf, mode, encoding, compression, memory_map, is_text, errors, storage_options)\u001b[0m\n\u001b[0;32m    640\u001b[0m                 \u001b[0merrors\u001b[0m \u001b[1;33m=\u001b[0m \u001b[1;34m\"replace\"\u001b[0m\u001b[1;33m\u001b[0m\u001b[1;33m\u001b[0m\u001b[0m\n\u001b[0;32m    641\u001b[0m             \u001b[1;31m# Encoding\u001b[0m\u001b[1;33m\u001b[0m\u001b[1;33m\u001b[0m\u001b[1;33m\u001b[0m\u001b[0m\n\u001b[1;32m--> 642\u001b[1;33m             handle = open(\n\u001b[0m\u001b[0;32m    643\u001b[0m                 \u001b[0mhandle\u001b[0m\u001b[1;33m,\u001b[0m\u001b[1;33m\u001b[0m\u001b[1;33m\u001b[0m\u001b[0m\n\u001b[0;32m    644\u001b[0m                 \u001b[0mioargs\u001b[0m\u001b[1;33m.\u001b[0m\u001b[0mmode\u001b[0m\u001b[1;33m,\u001b[0m\u001b[1;33m\u001b[0m\u001b[1;33m\u001b[0m\u001b[0m\n",
      "\u001b[1;31mFileNotFoundError\u001b[0m: [Errno 2] No such file or directory: 'train.csv'"
     ]
    }
   ],
   "source": [
    "housetrain=pd.read_csv('train.csv')"
   ]
  },
  {
   "cell_type": "code",
   "execution_count": null,
   "id": "257a7b63",
   "metadata": {},
   "outputs": [],
   "source": [
    "housetest=pd.read_csv('test.csv')"
   ]
  },
  {
   "cell_type": "code",
   "execution_count": null,
   "id": "ff64466d",
   "metadata": {},
   "outputs": [],
   "source": [
    "housetrain.shape"
   ]
  },
  {
   "cell_type": "code",
   "execution_count": null,
   "id": "f019be2c",
   "metadata": {},
   "outputs": [],
   "source": [
    "housetest.shape\n",
    "# Test Data do not have Dependent Variable 'SalePrice', Predict it using\n",
    "# Trained model"
   ]
  },
  {
   "cell_type": "code",
   "execution_count": null,
   "id": "492856d4",
   "metadata": {},
   "outputs": [],
   "source": [
    "# Adding Dependent Varaible to Test Data with single value 'test' for \n",
    "# matching number of columns of train data & for Data subsetting in end\n",
    "housetest['SalePrice']='test'"
   ]
  },
  {
   "cell_type": "code",
   "execution_count": null,
   "id": "986e7d78",
   "metadata": {},
   "outputs": [],
   "source": [
    "# Concatening Both Train & Test dataframes for preprocessing\n",
    "combinedf=pd.concat([housetrain,housetest],axis=0)\n",
    "# axis=0 Row wise Concatenation"
   ]
  },
  {
   "cell_type": "code",
   "execution_count": null,
   "id": "0cb0cc76",
   "metadata": {},
   "outputs": [],
   "source": [
    "combinedf.shape"
   ]
  },
  {
   "cell_type": "code",
   "execution_count": null,
   "id": "6b61c135",
   "metadata": {},
   "outputs": [],
   "source": [
    "# Split Dataframe into Numeric data & Non Numericdata\n",
    "# Preprocessing is different for Object Data & Numeric Data, hence split\n",
    "objectcols=combinedf.select_dtypes(include=['object'])\n",
    "numericcols=combinedf.select_dtypes(include=np.number)"
   ]
  },
  {
   "cell_type": "code",
   "execution_count": null,
   "id": "7965a3b4",
   "metadata": {},
   "outputs": [],
   "source": [
    "print(objectcols.shape)\n",
    "print(numericcols.shape)\n",
    "# Number of Object Columns is 44\n",
    "# Number of Numeric Columns is 37"
   ]
  },
  {
   "cell_type": "code",
   "execution_count": null,
   "id": "d85ddfd5",
   "metadata": {},
   "outputs": [],
   "source": [
    "# Check Missing Values in Object Columns\n",
    "objectcols.isnull().sum().sort_values(ascending=False)"
   ]
  },
  {
   "cell_type": "code",
   "execution_count": null,
   "id": "26303b58",
   "metadata": {},
   "outputs": [],
   "source": [
    "objectcols.info()"
   ]
  },
  {
   "cell_type": "code",
   "execution_count": null,
   "id": "e42ee74b",
   "metadata": {},
   "outputs": [],
   "source": [
    "# As per Data Dictionary, NA means the following:\n",
    "# PoolQC - NA - No Pool\n",
    "# MiscFeature - No MiscFeature\n",
    "# Alley - NA  - No Alley Access\n",
    "# Fence - NA  - No Fence\n",
    "# FireplaceQu - NA - No Fireplace"
   ]
  },
  {
   "cell_type": "code",
   "execution_count": null,
   "id": "2e10112b",
   "metadata": {},
   "outputs": [],
   "source": [
    "# Imputing Missing Values with NotAvaialable using For Loop & Column list\n",
    "notavail=['PoolQC','MiscFeature','Alley','Fence','FireplaceQu']\n",
    "for col in notavail:\n",
    "    objectcols[col]=objectcols[col].fillna('NotAvailable')"
   ]
  },
  {
   "cell_type": "code",
   "execution_count": null,
   "id": "efb89a45",
   "metadata": {},
   "outputs": [],
   "source": [
    "# As per Data Dictionary, NA means the following:\n",
    "#GarageCond- No Garage       \n",
    "#GarageQual- No Garage     \n",
    "#GarageFinish - No Garage   \n",
    "#GarageType - No Garage     "
   ]
  },
  {
   "cell_type": "code",
   "execution_count": null,
   "id": "8641e252",
   "metadata": {},
   "outputs": [],
   "source": [
    "# Imputing Missing Values with NotAvaialable using For Loop & Column list\n",
    "garagecols=['GarageCond','GarageQual','GarageFinish','GarageType']\n",
    "for col in garagecols:\n",
    "    objectcols[col]=objectcols[col].fillna('NotAvailable')"
   ]
  },
  {
   "cell_type": "code",
   "execution_count": null,
   "id": "9cd5bcc6",
   "metadata": {},
   "outputs": [],
   "source": [
    "# As per Data Dictionary NA means the following:\n",
    "#BsmtCond - No Basement\n",
    "#BsmtExposure - No Basement\n",
    "#BsmtQual -- No Basement\n",
    "#BsmtFinType2 - No Basement\n",
    "#BsmtFinType1 - No Basement"
   ]
  },
  {
   "cell_type": "code",
   "execution_count": null,
   "id": "c214b60e",
   "metadata": {},
   "outputs": [],
   "source": [
    "# Imputing Missing Values with NotAvaialable using For Loop & Column list\n",
    "bsmtcols=['BsmtCond','BsmtExposure','BsmtQual','BsmtFinType2',\n",
    "         'BsmtFinType1']\n",
    "for col in bsmtcols:\n",
    "    objectcols[col]=objectcols[col].fillna('NotAvailable')"
   ]
  },
  {
   "cell_type": "code",
   "execution_count": null,
   "id": "bd2cb26c",
   "metadata": {},
   "outputs": [],
   "source": [
    "objectcols.MasVnrType.value_counts(dropna=False)"
   ]
  },
  {
   "cell_type": "code",
   "execution_count": null,
   "id": "7a4f4548",
   "metadata": {},
   "outputs": [],
   "source": [
    "# Imputing NA with Index of Maximum in Value Counts table\n",
    "for col in objectcols:\n",
    "    objectcols[col]=objectcols[col].fillna(\n",
    "    objectcols[col].value_counts().idxmax())"
   ]
  },
  {
   "cell_type": "code",
   "execution_count": null,
   "id": "d6a2ac0f",
   "metadata": {},
   "outputs": [],
   "source": [
    "# Check Missing Values in Numeric Columns\n",
    "numericcols.isnull().sum().sort_values(ascending=False)"
   ]
  },
  {
   "cell_type": "code",
   "execution_count": null,
   "id": "4299a67a",
   "metadata": {},
   "outputs": [],
   "source": [
    "# Check for both Mean & Median (50% or Q2)\n",
    "numericcols.describe()"
   ]
  },
  {
   "cell_type": "code",
   "execution_count": null,
   "id": "a4b0d27b",
   "metadata": {},
   "outputs": [],
   "source": [
    "# Impute GarageYrBlt with missing code - 9999\n",
    "numericcols.GarageYrBlt=numericcols.GarageYrBlt.fillna(9999)"
   ]
  },
  {
   "cell_type": "code",
   "execution_count": null,
   "id": "e9fd91c3",
   "metadata": {},
   "outputs": [],
   "source": [
    "# Imputed all missing values in numeric columns with median of respective\n",
    "#columns\n",
    "for col in numericcols:\n",
    "    numericcols[col]=numericcols[col].fillna(\n",
    "    numericcols[col].median())"
   ]
  },
  {
   "cell_type": "code",
   "execution_count": null,
   "id": "dca3f9b2",
   "metadata": {},
   "outputs": [],
   "source": [
    "# Identify Categorical Columns from Numeric Columns. Columns like year,\n",
    "# rating, etc.\n",
    "numericcols.columns"
   ]
  },
  {
   "cell_type": "code",
   "execution_count": null,
   "id": "4397caf0",
   "metadata": {},
   "outputs": [],
   "source": [
    "# Seperated Cateorical Columns from Numeric Columns\n",
    "categorycols=numericcols[['OverallQual','OverallCond', 'YearBuilt', \n",
    "                          'YearRemodAdd','GarageYrBlt','MoSold', \n",
    "                          'YrSold']]"
   ]
  },
  {
   "cell_type": "code",
   "execution_count": null,
   "id": "1591c9b4",
   "metadata": {},
   "outputs": [],
   "source": [
    "# Immediately dropped the above columns from numeric columns to prevent\n",
    "# duplication\n",
    "numericcols=numericcols.drop(['OverallQual','OverallCond', 'YearBuilt', \n",
    "                          'YearRemodAdd','GarageYrBlt','MoSold', \n",
    "                          'YrSold'],axis=1)"
   ]
  },
  {
   "cell_type": "code",
   "execution_count": null,
   "id": "8378b936",
   "metadata": {},
   "outputs": [],
   "source": [
    "print(objectcols.shape)\n",
    "print(numericcols.shape)\n",
    "print(categorycols.shape)\n",
    "# Number of Object Columns - 44\n",
    "# Number of Numeric Columns - 30\n",
    "# Number of Categorical Columns - 7"
   ]
  },
  {
   "cell_type": "code",
   "execution_count": null,
   "id": "4e0c29b9",
   "metadata": {},
   "outputs": [],
   "source": [
    "# Added SalePrice Column to Numerical Data which was in Object Data\n",
    "numericcols['SalePrice']=objectcols.SalePrice"
   ]
  },
  {
   "cell_type": "code",
   "execution_count": null,
   "id": "35adebe3",
   "metadata": {},
   "outputs": [],
   "source": [
    "from sklearn.preprocessing import LabelEncoder"
   ]
  },
  {
   "cell_type": "code",
   "execution_count": null,
   "id": "d1aa9aa1",
   "metadata": {},
   "outputs": [],
   "source": [
    "le=LabelEncoder()"
   ]
  },
  {
   "cell_type": "code",
   "execution_count": null,
   "id": "01d2c5cb",
   "metadata": {},
   "outputs": [],
   "source": [
    "# Drop SalePrice Column from Objectcols as it is added to Numeric Cols\n",
    "objectcols=objectcols.drop('SalePrice',axis=1)"
   ]
  },
  {
   "cell_type": "code",
   "execution_count": null,
   "id": "45327eee",
   "metadata": {},
   "outputs": [],
   "source": [
    "# Label Encode or Dummy Varible Encoding of Object Cols\n",
    "objectcolsdummy=objectcols.apply(le.fit_transform)"
   ]
  },
  {
   "cell_type": "code",
   "execution_count": null,
   "id": "f7e32bd7",
   "metadata": {},
   "outputs": [],
   "source": [
    "# Label Encode or Dummy Varible Encoding of Category Cols\n",
    "categorycolsdummy=categorycols.apply(le.fit_transform)"
   ]
  },
  {
   "cell_type": "code",
   "execution_count": null,
   "id": "d53a1183",
   "metadata": {},
   "outputs": [],
   "source": [
    "# Concatinating all 3 dataframes - numericcols, objectcolsdummy & \n",
    "# categorycolsdummy into one Dataframe\n",
    "combinedfclean=pd.concat([numericcols,objectcolsdummy,\n",
    "                         categorycolsdummy],axis=1)"
   ]
  },
  {
   "cell_type": "code",
   "execution_count": null,
   "id": "1f0aaf69",
   "metadata": {},
   "outputs": [],
   "source": [
    "# Split data back to train & test from preprocessed combined dataframe\n",
    "housetraindf=combinedfclean[combinedfclean.SalePrice!='test']\n",
    "housetestdf=combinedfclean[combinedfclean.SalePrice=='test']"
   ]
  },
  {
   "cell_type": "code",
   "execution_count": null,
   "id": "f09d3b12",
   "metadata": {},
   "outputs": [],
   "source": [
    "# Dropping SalePrice Column from test data\n",
    "housetestdf=housetestdf.drop('SalePrice',axis=1)"
   ]
  },
  {
   "cell_type": "code",
   "execution_count": null,
   "id": "08b7aa2b",
   "metadata": {},
   "outputs": [],
   "source": [
    "# Converting SalePrice back to Numeric\n",
    "housetraindf.SalePrice=housetraindf.SalePrice.astype('float64')"
   ]
  },
  {
   "cell_type": "code",
   "execution_count": null,
   "id": "d23d3782",
   "metadata": {},
   "outputs": [],
   "source": [
    "# Test Null Average SalePrice of different OverallCond is equal\n",
    "housetraindf.SalePrice.groupby(housetraindf.OverallCond).mean()"
   ]
  },
  {
   "cell_type": "code",
   "execution_count": null,
   "id": "34bd8b97",
   "metadata": {},
   "outputs": [],
   "source": [
    "cond0=housetraindf[housetraindf.OverallCond==0]\n",
    "cond1=housetraindf[housetraindf.OverallCond==1]\n",
    "cond2=housetraindf[housetraindf.OverallCond==2]\n",
    "cond3=housetraindf[housetraindf.OverallCond==3]\n",
    "cond4=housetraindf[housetraindf.OverallCond==4]\n",
    "cond5=housetraindf[housetraindf.OverallCond==5]\n",
    "cond6=housetraindf[housetraindf.OverallCond==6]\n",
    "cond7=housetraindf[housetraindf.OverallCond==7]\n",
    "cond8=housetraindf[housetraindf.OverallCond==8]"
   ]
  },
  {
   "cell_type": "code",
   "execution_count": null,
   "id": "1718f555",
   "metadata": {},
   "outputs": [],
   "source": [
    "from scipy.stats import f_oneway"
   ]
  },
  {
   "cell_type": "code",
   "execution_count": null,
   "id": "f1041a51",
   "metadata": {},
   "outputs": [],
   "source": [
    "f_oneway(cond0.SalePrice,cond1.SalePrice,cond2.SalePrice,cond3.SalePrice,\n",
    "        cond4.SalePrice,cond5.SalePrice,cond6.SalePrice,cond7.SalePrice,\n",
    "        cond8.SalePrice)\n",
    "# SINCE pvalue=7.962288819950615e-38 IS LESS THAN 0.05, REJECT NULL\n",
    "# NULL - THERE IS NO SIGNFICANT DIFFERENCE IN AVERAGE SALEPRICE OF \n",
    "# DIFFERENT OVERALL CONDITION HOUSES"
   ]
  },
  {
   "cell_type": "code",
   "execution_count": null,
   "id": "cd983938",
   "metadata": {},
   "outputs": [],
   "source": [
    "# Test Null Average SalePrice of different MasVnrType is equal\n",
    "housetraindf.SalePrice.groupby(housetraindf.MasVnrType).mean()"
   ]
  },
  {
   "cell_type": "code",
   "execution_count": null,
   "id": "990c77b6",
   "metadata": {},
   "outputs": [],
   "source": [
    "# Split Data into DependentVariable(y) & Independent Variables (Xs)\n",
    "y=housetraindf.SalePrice\n",
    "X=housetraindf.drop(['SalePrice','Id'],axis=1)"
   ]
  },
  {
   "cell_type": "code",
   "execution_count": null,
   "id": "938f7e7d",
   "metadata": {},
   "outputs": [],
   "source": [
    "housetestdf=housetestdf.drop('Id',axis=1)"
   ]
  },
  {
   "cell_type": "code",
   "execution_count": null,
   "id": "f392b467",
   "metadata": {},
   "outputs": [],
   "source": [
    "# Check Distrbution and Outliers of SalePrice\n",
    "y.plot(kind='box',vert=False)"
   ]
  },
  {
   "cell_type": "code",
   "execution_count": null,
   "id": "53168e5e",
   "metadata": {},
   "outputs": [],
   "source": [
    "from sklearn.linear_model import LinearRegression"
   ]
  },
  {
   "cell_type": "code",
   "execution_count": null,
   "id": "852e03ba",
   "metadata": {},
   "outputs": [],
   "source": [
    "linreg=LinearRegression()"
   ]
  },
  {
   "cell_type": "code",
   "execution_count": null,
   "id": "42611c45",
   "metadata": {},
   "outputs": [],
   "source": [
    "linregmodel=linreg.fit(X,y)"
   ]
  },
  {
   "cell_type": "code",
   "execution_count": null,
   "id": "216b5aeb",
   "metadata": {},
   "outputs": [],
   "source": [
    "linregmodel.score(X,y) # R Square"
   ]
  },
  {
   "cell_type": "code",
   "execution_count": null,
   "id": "aa8f01b7",
   "metadata": {},
   "outputs": [],
   "source": [
    "regpredict=linregmodel.predict(housetestdf)"
   ]
  },
  {
   "cell_type": "code",
   "execution_count": null,
   "id": "b3968678",
   "metadata": {},
   "outputs": [],
   "source": [
    "pd.DataFrame(regpredict).to_csv('reg.csv')"
   ]
  },
  {
   "cell_type": "code",
   "execution_count": null,
   "id": "6d16cb9f",
   "metadata": {},
   "outputs": [],
   "source": [
    "from sklearn.tree import DecisionTreeRegressor"
   ]
  },
  {
   "cell_type": "code",
   "execution_count": null,
   "id": "fc09fa76",
   "metadata": {},
   "outputs": [],
   "source": [
    "tree=DecisionTreeRegressor()"
   ]
  },
  {
   "cell_type": "code",
   "execution_count": null,
   "id": "ef9fc660",
   "metadata": {},
   "outputs": [],
   "source": [
    "treemodel=tree.fit(X,y)"
   ]
  },
  {
   "cell_type": "code",
   "execution_count": null,
   "id": "4b3f62cb",
   "metadata": {},
   "outputs": [],
   "source": [
    "treemodel.score(X,y)"
   ]
  },
  {
   "cell_type": "code",
   "execution_count": null,
   "id": "6d65c440",
   "metadata": {},
   "outputs": [],
   "source": [
    "treepredict=treemodel.predict(housetestdf)"
   ]
  },
  {
   "cell_type": "code",
   "execution_count": null,
   "id": "50ac68e9",
   "metadata": {},
   "outputs": [],
   "source": [
    "pd.DataFrame(treepredict).to_csv('tree.csv')"
   ]
  },
  {
   "cell_type": "code",
   "execution_count": null,
   "id": "c8d9df74",
   "metadata": {},
   "outputs": [],
   "source": [
    "from sklearn.ensemble import RandomForestRegressor"
   ]
  },
  {
   "cell_type": "code",
   "execution_count": null,
   "id": "3041f733",
   "metadata": {},
   "outputs": [],
   "source": [
    "RF=RandomForestRegressor(n_estimators=3000)"
   ]
  },
  {
   "cell_type": "code",
   "execution_count": null,
   "id": "50785627",
   "metadata": {},
   "outputs": [],
   "source": [
    "RFmodel=RF.fit(X,y)"
   ]
  },
  {
   "cell_type": "code",
   "execution_count": null,
   "id": "8e991121",
   "metadata": {},
   "outputs": [],
   "source": [
    "RFmodel.score(X,y)"
   ]
  },
  {
   "cell_type": "code",
   "execution_count": null,
   "id": "9dc3418d",
   "metadata": {},
   "outputs": [],
   "source": [
    "Rfpredict=RFmodel.predict(housetestdf)"
   ]
  },
  {
   "cell_type": "code",
   "execution_count": null,
   "id": "4deaaba9",
   "metadata": {},
   "outputs": [],
   "source": [
    "pd.DataFrame(Rfpredict).to_csv('RF.csv')"
   ]
  },
  {
   "cell_type": "code",
   "execution_count": null,
   "id": "8302a3a8",
   "metadata": {},
   "outputs": [],
   "source": [
    "from sklearn.ensemble import GradientBoostingRegressor"
   ]
  },
  {
   "cell_type": "code",
   "execution_count": null,
   "id": "27cb5b56",
   "metadata": {},
   "outputs": [],
   "source": [
    "gbm=GradientBoostingRegressor(n_estimators=2000)"
   ]
  },
  {
   "cell_type": "code",
   "execution_count": null,
   "id": "5ffe537a",
   "metadata": {},
   "outputs": [],
   "source": [
    "gbmmodel=gbm.fit(X,y)"
   ]
  },
  {
   "cell_type": "code",
   "execution_count": null,
   "id": "a8d567a8",
   "metadata": {},
   "outputs": [],
   "source": [
    "gbmmodel.score(X,y)"
   ]
  },
  {
   "cell_type": "code",
   "execution_count": null,
   "id": "bb0c359c",
   "metadata": {},
   "outputs": [],
   "source": [
    "gbmpredict=gbmmodel.predict(housetestdf)"
   ]
  },
  {
   "cell_type": "code",
   "execution_count": null,
   "id": "3740cdbd",
   "metadata": {},
   "outputs": [],
   "source": [
    "pd.DataFrame(gbmpredict).to_csv('gbm.csv')"
   ]
  },
  {
   "cell_type": "code",
   "execution_count": null,
   "id": "7e95932f",
   "metadata": {},
   "outputs": [],
   "source": []
  }
 ],
 "metadata": {
  "kernelspec": {
   "display_name": "Python 3",
   "language": "python",
   "name": "python3"
  },
  "language_info": {
   "codemirror_mode": {
    "name": "ipython",
    "version": 3
   },
   "file_extension": ".py",
   "mimetype": "text/x-python",
   "name": "python",
   "nbconvert_exporter": "python",
   "pygments_lexer": "ipython3",
   "version": "3.8.8"
  }
 },
 "nbformat": 4,
 "nbformat_minor": 5
}
